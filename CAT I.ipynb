{
 "cells": [
  {
   "cell_type": "code",
   "execution_count": 1,
   "id": "55d2955a",
   "metadata": {},
   "outputs": [
    {
     "name": "stdout",
     "output_type": "stream",
     "text": [
      "First String:  LLOZPTHYNVYXIPUY\n"
     ]
    }
   ],
   "source": [
    "import string    \n",
    "import random \n",
    "import numpy as np\n",
    "S = 16\n",
    "s1 = ''.join(random.choices(string.ascii_uppercase, k = S))   \n",
    "ran1 = str(s1)\n",
    "print(\"First String: \",s1)  "
   ]
  },
  {
   "cell_type": "code",
   "execution_count": 2,
   "id": "80aae5f6",
   "metadata": {},
   "outputs": [
    {
     "name": "stdout",
     "output_type": "stream",
     "text": [
      "Second String:  FTTMSBYOLVEAWXRL\n"
     ]
    }
   ],
   "source": [
    "S = 16  \n",
    "s2 = ''.join(random.choices(string.ascii_uppercase, k = S))    \n",
    "s2= str(s2)\n",
    "print(\"Second String: \",s2)"
   ]
  },
  {
   "cell_type": "code",
   "execution_count": 3,
   "id": "f4604cf9",
   "metadata": {},
   "outputs": [
    {
     "name": "stdout",
     "output_type": "stream",
     "text": [
      "H=\n",
      " [[0. 0. 0. 0. 0. 0. 0. 0. 0. 0. 0. 0. 0. 0. 0. 0. 0.]\n",
      " [0. 0. 0. 0. 0. 0. 0. 0. 0. 5. 4. 3. 2. 1. 0. 0. 5.]\n",
      " [0. 0. 0. 0. 0. 0. 0. 0. 0. 5. 4. 3. 2. 1. 0. 0. 5.]\n",
      " [0. 0. 0. 0. 0. 0. 0. 0. 5. 4. 3. 2. 1. 0. 0. 0. 4.]\n",
      " [0. 0. 0. 0. 0. 0. 0. 0. 4. 3. 2. 1. 0. 0. 0. 0. 3.]\n",
      " [0. 0. 0. 0. 0. 0. 0. 0. 3. 2. 1. 0. 0. 0. 0. 0. 2.]\n",
      " [0. 0. 5. 5. 4. 3. 2. 1. 2. 1. 0. 0. 0. 0. 0. 0. 1.]\n",
      " [0. 0. 4. 4. 3. 2. 1. 0. 1. 0. 0. 0. 0. 0. 0. 0. 0.]\n",
      " [0. 0. 3. 3. 2. 1. 0. 6. 5. 4. 3. 2. 1. 0. 0. 0. 0.]\n",
      " [0. 0. 2. 2. 1. 0. 0. 5. 4. 3. 2. 1. 0. 0. 0. 0. 0.]\n",
      " [0. 0. 1. 1. 0. 0. 0. 4. 3. 2. 8. 7. 6. 5. 4. 3. 2.]\n",
      " [0. 0. 0. 0. 0. 0. 0. 5. 4. 3. 7. 6. 5. 4. 3. 2. 1.]\n",
      " [0. 0. 0. 0. 0. 0. 0. 4. 3. 2. 6. 5. 4. 3. 9. 8. 7.]\n",
      " [0. 0. 0. 0. 0. 0. 0. 3. 2. 1. 5. 4. 3. 2. 8. 7. 6.]\n",
      " [0. 0. 0. 0. 0. 0. 0. 2. 1. 0. 4. 3. 2. 1. 7. 6. 5.]\n",
      " [0. 0. 0. 0. 0. 0. 0. 1. 0. 0. 3. 2. 1. 0. 6. 5. 4.]\n",
      " [0. 0. 0. 0. 0. 0. 0. 5. 4. 3. 2. 1. 0. 0. 5. 4. 3.]] \n",
      "\n",
      "a1 = X\t a2 = X\n",
      "\n",
      "a1 = -\t a2 = W\n",
      "\n",
      "a1 = -\t a2 = A\n",
      "\n",
      "a1 = -\t a2 = E\n",
      "\n",
      "a1 = Y\t a2 = -\n",
      "\n",
      "a1 = V\t a2 = V\n",
      "\n",
      "a1 = -\t a2 = L\n",
      "\n",
      "a1 = -\t a2 = O\n",
      "\n",
      "a1 = N\t a2 = -\n",
      "\n",
      "a1 = Y\t a2 = Y\n",
      "\n",
      "a1 = -\t a2 = B\n",
      "\n",
      "a1 = -\t a2 = S\n",
      "\n",
      "a1 = -\t a2 = M\n",
      "\n",
      "a1 = H\t a2 = -\n",
      "\n",
      "a1 = T\t a2 = T\n",
      "\n",
      "Score = 9.0\n",
      "TH---YN--VY---X\n",
      "T    Y   V    X\n",
      "T-MSBY-OLV-EAWX\n"
     ]
    }
   ],
   "source": [
    "p ={'ma': 5, 'mi': -4, 'g': -1}\n",
    "def mas(al, be):\n",
    "    if al == be:\n",
    "        return p['ma']\n",
    "    elif al == '-' or be == '-':\n",
    "        return p['g']\n",
    "    else:\n",
    "        return p['mi']\n",
    "def DP(s1, s2):\n",
    "    x, y,ms = len(s1), len(s2),0\n",
    "    H = np.zeros((x+1, y+1))    \n",
    "    T = np.zeros((x+1, y+1))\n",
    "    for i in range(1, x + 1):\n",
    "        for j in range(1, y + 1):\n",
    "            sc_diag = H[i-1][j-1] + mas(s1[i-1], s2[j-1])\n",
    "            sc_up = H[i][j-1] + p['g']\n",
    "            sc_left = H[i-1][j] + p['g']\n",
    "            H[i][j] = max(0,sc_left, sc_up, sc_diag)\n",
    "            if H[i][j] == 0: T[i][j] = 0\n",
    "            if H[i][j] == sc_left: T[i][j] = 1\n",
    "            if H[i][j] == sc_up: T[i][j] = 2\n",
    "            if H[i][j] == sc_diag: T[i][j] = 3\n",
    "            if H[i][j] >= ms:\n",
    "                m_i = i\n",
    "                m_j = j\n",
    "                ms = H[i][j];\n",
    "    print('H=\\n',H,'\\n')\n",
    "    al1, al2 = '', ''\n",
    "    i,j = m_i,m_j\n",
    "    \n",
    "    \n",
    "   \n",
    "    while T[i][j] != 0:\n",
    "        if T[i][j] == 3:\n",
    "            a1 = s1[i-1]\n",
    "            a2 = s2[j-1]\n",
    "            i -= 1\n",
    "            j -= 1\n",
    "        elif T[i][j] == 2:\n",
    "            a1 = '-'\n",
    "            a2 = s2[j-1]\n",
    "            j -= 1\n",
    "        elif T[i][j] == 1:\n",
    "            a1 = s1[i-1]\n",
    "            a2 = '-'\n",
    "            i -= 1\n",
    "        print('a1 = %s\\t a2 = %s\\n' % (a1,a2))\n",
    "        al1 += a1\n",
    "        al2 += a2\n",
    "    al1 = al1[::-1]\n",
    "    al2 = al2[::-1]\n",
    "    sym = ''\n",
    "    for i in range(len(al1)):\n",
    "        a1 = al1[i]\n",
    "        a2 = al2[i]\n",
    "        if a1 == a2:                \n",
    "            sym += a1\n",
    "        elif a1 != a2 and a1 != '-' and a2 != '-': \n",
    "            sym += ' '\n",
    "        elif a1 == '-' or a2 == '-':          \n",
    "            sym += ' '\n",
    "    print('Score =', ms)\n",
    "    print(al1)\n",
    "    print(sym)\n",
    "    print(al2)\n",
    "DP(s1,s2)"
   ]
  }
 ],
 "metadata": {
  "kernelspec": {
   "display_name": "Python 3 (ipykernel)",
   "language": "python",
   "name": "python3"
  },
  "language_info": {
   "codemirror_mode": {
    "name": "ipython",
    "version": 3
   },
   "file_extension": ".py",
   "mimetype": "text/x-python",
   "name": "python",
   "nbconvert_exporter": "python",
   "pygments_lexer": "ipython3",
   "version": "3.9.12"
  }
 },
 "nbformat": 4,
 "nbformat_minor": 5
}
